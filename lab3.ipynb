{
 "cells": [
  {
   "cell_type": "code",
   "execution_count": 1,
   "metadata": {},
   "outputs": [
    {
     "name": "stderr",
     "output_type": "stream",
     "text": [
      "/Users/domantelio/Projects/gmm/.venv/lib/python3.12/site-packages/tqdm/auto.py:21: TqdmWarning: IProgress not found. Please update jupyter and ipywidgets. See https://ipywidgets.readthedocs.io/en/stable/user_install.html\n",
      "  from .autonotebook import tqdm as notebook_tqdm\n"
     ]
    },
    {
     "data": {
      "text/plain": [
       "device(type='mps')"
      ]
     },
     "execution_count": 1,
     "metadata": {},
     "output_type": "execute_result"
    }
   ],
   "source": [
    "from importlib import reload\n",
    "import numpy as np\n",
    "import torch\n",
    "import matplotlib.pyplot as plt\n",
    "\n",
    "import lab3.classes\n",
    "reload(lab3.classes)\n",
    "import lab3.classes as cs\n",
    "\n",
    "import lab3.show\n",
    "reload(lab3.show)\n",
    "from lab3.show import show_image, mask_to_rgb_image\n",
    "\n",
    "import lab3.trans\n",
    "reload(lab3.trans)\n",
    "from lab3.trans import validation_trans, train_trans, test_trans\n",
    "\n",
    "import lab3.dataset\n",
    "reload(lab3.dataset)\n",
    "from lab3.dataset import FiftyOneDataset\n",
    "\n",
    "import lab3.net\n",
    "reload(lab3.net)\n",
    "from lab3.net import Net\n",
    "\n",
    "import lab1.device\n",
    "reload(lab1.device)\n",
    "from lab1.device import device\n",
    "\n",
    "device"
   ]
  },
  {
   "cell_type": "code",
   "execution_count": 2,
   "metadata": {},
   "outputs": [
    {
     "data": {
      "text/plain": [
       "<fiftyone.utils.openimages.OpenImagesV6DatasetImporter at 0x3295542c0>"
      ]
     },
     "execution_count": 2,
     "metadata": {},
     "output_type": "execute_result"
    }
   ],
   "source": [
    "from typing import Literal\n",
    "import fiftyone as fo\n",
    "import fiftyone.utils.openimages as fouo\n",
    "import fiftyone.zoo as foz\n",
    "\n",
    "def download(split = \"train\", max_samples: int = 1000): # TODO: 2000\n",
    "  return foz.load_zoo_dataset(\n",
    "    \"open-images-v6\",\n",
    "    split        = split,\n",
    "    label_types  = [\"segmentations\", \"detections\"],\n",
    "    classes      = cs.classes_no_background,\n",
    "    max_samples  = max_samples,\n",
    "    dataset_dir  = \"data-lab3\",\n",
    "    dataset_name =f\"open-images-v6-{split}\"\n",
    "  )\n",
    "\n",
    "def load(split = \"train\"):\n",
    "  dataset =  fouo.OpenImagesV6DatasetImporter(\n",
    "    dataset_dir = f\"data-lab3/{split}\",\n",
    "    label_types = \"segmentations\"\n",
    "  )\n",
    "\n",
    "  dataset.setup()\n",
    "\n",
    "  return dataset\n",
    "\n",
    "# train_ds = download(\"train\")\n",
    "# valid_ds = download(\"validation\", max_samples = 300)\n",
    "# test_ds  = download(\"test\", max_samples = 300)\n",
    "\n",
    "train_ds = load(\"train\")\n",
    "valid_ds = load(\"validation\")\n",
    "\n",
    "train_ds #, fo.list_datasets()"
   ]
  },
  {
   "cell_type": "code",
   "execution_count": 3,
   "metadata": {},
   "outputs": [],
   "source": [
    "def seconds_to_time(seconds):\n",
    "    s = int(seconds) % 60\n",
    "    m = int(seconds) // 60\n",
    "    if m < 1:\n",
    "        return f'{s}s'\n",
    "    h = m // 60\n",
    "    m = m % 60\n",
    "    if h < 1:\n",
    "        return f'{m}m{s}s'\n",
    "    return f'{h}h{m}m{s}s'"
   ]
  },
  {
   "cell_type": "code",
   "execution_count": 4,
   "metadata": {},
   "outputs": [],
   "source": [
    "def evaluate(model, loader):\n",
    "  print(f\"Evaluating\")\n",
    "  model.eval()\n",
    "\n",
    "  total_iou = 0.0\n",
    "  total_dice = 0.0\n",
    "  total_predictions = 0\n",
    "\n",
    "  for images, true_masks in loader:\n",
    "    images = images.to(device)\n",
    "    true_masks = true_masks.numpy()\n",
    "\n",
    "    with torch.no_grad():\n",
    "      predictions = model(images)\n",
    "    predictions = predictions.cpu().detach().numpy()\n",
    "\n",
    "    true_masks = true_masks > 0.5\n",
    "    predictions = predictions > 0.5\n",
    "\n",
    "    intersection = np.sum(np.bitwise_and(true_masks, predictions))\n",
    "    union = np.sum(np.bitwise_or(true_masks, predictions))\n",
    "\n",
    "    # Jaccard = || A \\intersect B || / || A \\union B ||\n",
    "    iou = intersection / union\n",
    "\n",
    "    # DICE = 2 || A \\intersect B || / (||A|| + ||B||)\n",
    "    dice = 2 * intersection / (np.sum(true_masks) + np.sum(predictions))\n",
    "\n",
    "    total_iou += iou\n",
    "    total_dice += dice\n",
    "    total_predictions += 1\n",
    "\n",
    "  mean_iou  = total_iou / total_predictions\n",
    "  mean_dice = total_dice / total_predictions\n",
    "  return mean_iou, mean_dice"
   ]
  },
  {
   "cell_type": "code",
   "execution_count": 5,
   "metadata": {},
   "outputs": [],
   "source": [
    "def train_epoch(optimizer, loss_func, model, loader):\n",
    "  model.train()\n",
    "  loss_acum = np.array([], dtype = np.float32)\n",
    "\n",
    "  for images, mask in loader:\n",
    "    images = images.to(device)\n",
    "    mask = mask.to(device)\n",
    "\n",
    "    pred = model(images)\n",
    "    loss = loss_func(pred, mask)\n",
    "    loss_acum = np.append(loss_acum, loss.cpu().detach().numpy())\n",
    "\n",
    "    loss.backward()\n",
    "    optimizer.step()\n",
    "    optimizer.zero_grad()\n",
    "\n",
    "  return np.mean(loss_acum)"
   ]
  },
  {
   "cell_type": "code",
   "execution_count": 6,
   "metadata": {},
   "outputs": [],
   "source": [
    "from datetime import datetime\n",
    "\n",
    "def train_and_eval(model, loader_train, loader_valid, epoch_count = 10, learning_rate = 1e-3):\n",
    "  loss_func = torch.nn.CrossEntropyLoss()\n",
    "  optimizer = torch.optim.Adam(model.parameters(), lr = learning_rate)\n",
    "\n",
    "  start_time = datetime.now()\n",
    "\n",
    "  train_iou_acum  = []\n",
    "  train_dice_acum = []\n",
    "  valid_iou_acum  = []\n",
    "  valid_dice_acum = []\n",
    "  for epoch in range(epoch_count):\n",
    "    print(f'Starting training')\n",
    "\n",
    "    loss = train_epoch(optimizer, loss_func, model, loader_train)\n",
    "    current_time = datetime.now()\n",
    "    elapsed = seconds_to_time((current_time - start_time).total_seconds())\n",
    "    print(f'loss        | Elapsed: {elapsed}')\n",
    "\n",
    "    train_iou, train_dice = evaluate(model, loader_train)\n",
    "\n",
    "    current_time = datetime.now()\n",
    "    elapsed = seconds_to_time((current_time - start_time).total_seconds())\n",
    "    print(f'eval train  | Elapsed: {elapsed}')\n",
    "\n",
    "    current_time = datetime.now()\n",
    "    \n",
    "    valid_iou, valid_dice = evaluate(model, loader_valid)\n",
    "    current_time = datetime.now()\n",
    "    elapsed = seconds_to_time((current_time - start_time).total_seconds())\n",
    "    print(f'eval valid  | Elapsed: {elapsed}')\n",
    "\n",
    "    train_iou_acum.append(train_iou)\n",
    "    valid_iou_acum.append(valid_iou)\n",
    "    train_dice_acum.append(train_dice)\n",
    "    valid_dice_acum.append(valid_dice)\n",
    "    current_time = datetime.now()\n",
    "    elapsed = seconds_to_time((current_time - start_time).total_seconds())\n",
    "    print(f'valid_iou   | Elapsed: {elapsed}')\n",
    "\n",
    "    current_time = datetime.now()\n",
    "    elapsed = seconds_to_time((current_time - start_time).total_seconds())\n",
    "    print(f'Epoch: {epoch}, Time: {elapsed}, Training loss: {loss}')\n",
    "    print(f'  Training IoU:  {train_iou.item():4f}, Validation IoU:  {valid_iou.item():4f}')\n",
    "    print(f'  Training Dice: {train_dice.item():4f}, Validation Dice: {valid_dice.item():4f}')\n",
    "\n",
    "  return train_iou_acum, valid_iou_acum, train_dice_acum, valid_dice_acum"
   ]
  },
  {
   "cell_type": "code",
   "execution_count": 7,
   "metadata": {},
   "outputs": [],
   "source": [
    "def plot(train, valid, label = \"IoU\"):\n",
    "  plt.clf()\n",
    "  plt.plot(train, 'b', label = f'Training {label}')\n",
    "  plt.plot(valid, 'r', label = f'Validation {label}')\n",
    "  plt.ylim(0.0, 1.0)\n",
    "  plt.legend()\n",
    "  plt.show()"
   ]
  },
  {
   "cell_type": "code",
   "execution_count": 8,
   "metadata": {},
   "outputs": [
    {
     "name": "stdout",
     "output_type": "stream",
     "text": [
      "Train: 808, Test: 157\n"
     ]
    }
   ],
   "source": [
    "import torch\n",
    "\n",
    "train_dataset = FiftyOneDataset(train_ds, train_trans)\n",
    "valid_dataset = FiftyOneDataset(valid_ds, validation_trans)\n",
    "\n",
    "num_workers = 8\n",
    "batch_size = 512\n",
    "\n",
    "train_ld = torch.utils.data.DataLoader(train_dataset, batch_size = batch_size, num_workers = num_workers, shuffle = True)\n",
    "valid_ld = torch.utils.data.DataLoader(valid_dataset, batch_size = 1, num_workers = num_workers, shuffle = False)\n",
    "\n",
    "print(f'Train: {len(train_dataset)}, Test: {len(valid_dataset)}')"
   ]
  },
  {
   "cell_type": "code",
   "execution_count": 9,
   "metadata": {},
   "outputs": [
    {
     "name": "stdout",
     "output_type": "stream",
     "text": [
      "Parameter count: 441,318\n",
      "Starting training\n",
      "loss        | Elapsed: 1m0s\n",
      "Evaluating\n",
      "eval train  | Elapsed: 1m56s\n",
      "Evaluating\n",
      "eval valid  | Elapsed: 3m14s\n",
      "valid_iou   | Elapsed: 3m14s\n",
      "Epoch: 0, Time: 3m14s, Training loss: 0.00690842978656292\n",
      "  Training IoU:  0.000000, Validation IoU:  0.000000\n",
      "  Training Dice: 0.000000, Validation Dice: 0.000000\n",
      "Starting training\n",
      "loss        | Elapsed: 4m33s\n",
      "Evaluating\n",
      "eval train  | Elapsed: 5m35s\n",
      "Evaluating\n",
      "eval valid  | Elapsed: 6m50s\n",
      "valid_iou   | Elapsed: 6m50s\n",
      "Epoch: 1, Time: 6m50s, Training loss: 0.0068917591124773026\n",
      "  Training IoU:  0.000000, Validation IoU:  0.000000\n",
      "  Training Dice: 0.000000, Validation Dice: 0.000000\n",
      "Starting training\n",
      "loss        | Elapsed: 8m8s\n",
      "Evaluating\n"
     ]
    }
   ],
   "source": [
    "model = Net(train_dataset[0][0].shape[0], num_classes = cs.num_classes).to(device)\n",
    "print(f'Parameter count: {sum(p.numel() for p in model.parameters() if p.requires_grad):,}')\n",
    "\n",
    "train_iou, valid_iou, train_dice, valid_dice = train_and_eval(model, train_ld, valid_ld, epoch_count = 3, learning_rate = 1e-3)\n",
    "plot(train_iou, valid_iou)\n",
    "plot(train_dice, valid_dice, label = \"dice\")"
   ]
  },
  {
   "cell_type": "code",
   "execution_count": null,
   "metadata": {},
   "outputs": [],
   "source": [
    "torch.save(model, 'lab3/model_attempt1.pth')"
   ]
  },
  {
   "cell_type": "code",
   "execution_count": null,
   "metadata": {},
   "outputs": [
    {
     "data": {
      "text/plain": [
       "<Figure size 640x480 with 0 Axes>"
      ]
     },
     "metadata": {},
     "output_type": "display_data"
    },
    {
     "data": {
      "image/png": "[encoded data removed]",
      "text/plain": [
       "<Figure size 800x300 with 2 Axes>"
      ]
     },
     "metadata": {},
     "output_type": "display_data"
    },
    {
     "data": {
      "text/plain": [
       "torch.Size([128, 128, 6])"
      ]
     },
     "execution_count": 13,
     "metadata": {},
     "output_type": "execute_result"
    }
   ],
   "source": [
    "model = torch.load('lab3/model_attempt1.pth').to(device)\n",
    "\n",
    "img, true_mask = valid_dataset[40]\n",
    "true_masks = true_mask\n",
    "# mask = model(img.unsqueeze(0).to(device)).cpu().detach().squeeze(0)\n",
    "\n",
    "# aggregated_mask = lab3ds.aggregate_detections(mask)\n",
    "show_image(img, mask_to_rgb_image(true_masks.permute(2, 1, 0), classes = cs.classes))\n",
    "true_masks.permute(2, 1, 0).shape"
   ]
  }
 ],
 "metadata": {
  "kernelspec": {
   "display_name": ".venv",
   "language": "python",
   "name": "python3"
  },
  "language_info": {
   "codemirror_mode": {
    "name": "ipython",
    "version": 3
   },
   "file_extension": ".py",
   "mimetype": "text/x-python",
   "name": "python",
   "nbconvert_exporter": "python",
   "pygments_lexer": "ipython3",
   "version": "3.12.3"
  }
 },
 "nbformat": 4,
 "nbformat_minor": 2
}
