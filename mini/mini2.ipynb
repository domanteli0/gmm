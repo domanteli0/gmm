{
 "cells": [
  {
   "cell_type": "code",
   "execution_count": 25,
   "metadata": {
    "id": "FTogF3AtIc5o"
   },
   "source": [
    "import numpy as np\n",
    "from scipy.signal import convolve2d\n"
   ],
   "outputs": []
  },
  {
   "cell_type": "markdown",
   "metadata": {
    "id": "r2fFeTWfkQ-G"
   },
   "source": [
    "# Mini užduotis 2\n",
    "\n",
    "Duotas vaizdas $img$, konvoliucijos filtras $filter$, ir etaloninė tiesa $ground\\_truth$. Taip pat duota nuostolių funkcija:\n",
    "\n",
    "$loss = \\left| ground\\_truth - \\sum (img \\ast filter) \\right|$,  \n",
    "čia $\\sum$ sumuoja visus matricos elementus.\n",
    "\n",
    "Užduotis:\n",
    "\n",
    "1. Paskaičiuoti kovoliuciją $img \\ast filter$\n",
    "2. Paskaičiuoti dalinę išvestinę filtro atžvilgiu $\\frac{\\partial loss}{\\partial filter}$"
   ]
  },
  {
   "cell_type": "code",
   "execution_count": 41,
   "metadata": {
    "colab": {
     "base_uri": "https://localhost:8080/"
    },
    "executionInfo": {
     "elapsed": 246,
     "status": "ok",
     "timestamp": 1713954297959,
     "user": {
      "displayName": "Boleslovas Dapkūnas",
      "userId": "09122101052896714539"
     },
     "user_tz": -180
    },
    "id": "o9ypycdzjTht",
    "outputId": "4f2f26ff-a081-4f93-cc4c-77f993be860b"
   },
   "source": [
    "img = np.arange(-12, 12.5, 1).reshape((5, 5)).astype(np.float32)\n",
    "filter = np.array([\n",
    "    [0, 1, 0],\n",
    "    [1, -2, 1],\n",
    "    [0, 1, 0]\n",
    "], dtype = np.float32)\n",
    "\n",
    "img.reshape((5, 5))\n",
    "\n",
    "ground_truth = 1\n",
    "\n",
    "# 1.\n",
    "conv = convolve2d(img, filter, mode='valid')\n",
    "sum = conv.sum()\n",
    "\n",
    "# 2.\n",
    "loss = np.abs(ground_truth - sum)\n",
    "grad_conv = np.sign(ground_truth - np.sum(conv))\n",
    "grad_filter = convolve2d(img, grad_conv * np.ones_like(conv), mode='valid')\n",
    "\n",
    "print('img')\n",
    "print(img)\n",
    "print('filter')\n",
    "print(filter)\n",
    "print(f'ground_truth = {ground_truth}')\n",
    "print('conv')\n",
    "print(conv)\n",
    "print('sum')\n",
    "print(sum)\n",
    "print('Loss:', loss)\n",
    "print('Gradient of the Filter:')\n",
    "print(grad_filter)\n",
    "# img[0], filter[0]"
   ],
   "outputs": []
  }
 ],
 "metadata": {
  "colab": {
   "authorship_tag": "ABX9TyNrXYwZHqD8JO6RG0aojEkR",
   "provenance": []
  },
  "kernelspec": {
   "display_name": "Python 3",
   "name": "python3"
  },
  "language_info": {
   "codemirror_mode": {
    "name": "ipython",
    "version": 3
   },
   "file_extension": ".py",
   "mimetype": "text/x-python",
   "name": "python",
   "nbconvert_exporter": "python",
   "pygments_lexer": "ipython3",
   "version": "3.12.3"
  }
 },
 "nbformat": 4,
 "nbformat_minor": 0
}
