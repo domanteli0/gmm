{
 "cells": [
  {
   "cell_type": "markdown",
   "metadata": {
    "id": "a97QY51CL9C3"
   },
   "source": [
    "# Mini užduotis 1\n",
    "\n",
    "Užduotis: suskaičiuoti klasių \"cat\" ir \"dog\" tikslumą su duotu modeliu ir duomenų rinkiniu. Duomenų rinkinys yra CIFAR-10.\n",
    "\n",
    "Duomenų rinkinio klasės:  \n",
    "0: plane  \n",
    "1: car  \n",
    "2: bird  \n",
    "3: cat  \n",
    "4: deer  \n",
    "5: dog  \n",
    "6: frog  \n",
    "7: horse  \n",
    "8: ship  \n",
    "9: truck"
   ]
  },
  {
   "cell_type": "code",
   "execution_count": 2,
   "metadata": {
    "id": "nQN3zp28NuQY"
   },
   "source": [
    "class Net(torch.nn.Module):\n",
    "  def __init__(self, num_classes = 10):\n",
    "    super().__init__()\n",
    "    self.num_classes = num_classes\n",
    "    self.conv1 = torch.nn.Conv2d(3, 6, 5)\n",
    "    self.pool = torch.nn.MaxPool2d(2, 2)\n",
    "    self.conv2 = torch.nn.Conv2d(6, 16, 5)\n",
    "    self.fc1 = torch.nn.Linear(16 * 5 * 5, 120)\n",
    "    self.fc2 = torch.nn.Linear(120, 84)\n",
    "    self.fc3 = torch.nn.Linear(84, self.num_classes)\n",
    "    self.relu = torch.nn.ReLU()\n",
    "\n",
    "  def forward(self, x):\n",
    "    x = self.pool(self.relu(self.conv1(x)))\n",
    "    x = self.pool(self.relu(self.conv2(x)))\n",
    "    x = torch.flatten(x, 1) # flatten all dimensions except batch\n",
    "    x = self.relu(self.fc1(x))\n",
    "    x = self.relu(self.fc2(x))\n",
    "    x = self.fc3(x)\n",
    "    return x\n",
    "\n",
    "!wget -O mini1.pth http://klevas.mif.vu.lt/~mif28413/gmm/mini/mini1.pth\n",
    "model = torch.load('mini1.pth').to(device)"
   ],
   "outputs": []
  },
  {
   "cell_type": "code",
   "execution_count": 3,
   "metadata": {
    "id": "Nz8dAr2eNypz"
   },
   "source": [
    "transform = transforms.Compose([\n",
    "  transforms.ToTensor(),\n",
    "  transforms.Normalize((0.5, 0.5, 0.5), (0.5, 0.5, 0.5))\n",
    "])\n",
    "test_set = torchvision.datasets.CIFAR10(root = './data-cifar', train = False, download = True, transform = transform)"
   ],
   "outputs": []
  },
  {
   "cell_type": "code",
   "execution_count": 5,
   "metadata": {},
   "source": [
    "from torch.utils.data import DataLoader\n",
    "from torch import cat as c\n",
    "from torch import tensor as t\n",
    "import matplotlib.pyplot as plt\n",
    "\n",
    "test_dl = DataLoader(test_set, shuffle = False, batch_size = 16, num_workers = 8)\n",
    "\n",
    "y     = []\n",
    "y_hat = []\n",
    "\n",
    "test_history = {\n",
    "  'ls': torch.zeros(0),\n",
    "  'ys': torch.zeros(0, 0),\n",
    "  'y_hats': torch.zeros(0,0)\n",
    "}; test_history\n",
    "\n",
    "y = t([])\n",
    "y_hat = t([])\n",
    "model.eval()\n",
    "with torch.no_grad():\n",
    "  for inputs, labels in test_dl:\n",
    "    inputs, labels = inputs.to(device), labels.to(device)\n",
    "\n",
    "    outputs = model(inputs)\n",
    "\n",
    "    y     = c((y, labels.detach().cpu().to(\"cpu\")), dim = -1)\n",
    "    y_hat = c((y_hat, outputs.argmax(dim = -1).detach().cpu().to(\"cpu\")), dim = -1)"
   ],
   "outputs": []
  },
  {
   "cell_type": "code",
   "execution_count": 18,
   "metadata": {},
   "source": [
    "from sklearn.metrics import confusion_matrix, classification_report, accuracy_score\n",
    "import numpy as np\n",
    "\n",
    "# Accuracy for `cat`, `dog`\n",
    "\n",
    "import seaborn as sns\n",
    "\n",
    "conf_matrix = confusion_matrix(y, y_hat)\n",
    "class_names = test_set.classes\n",
    "\n",
    "plt.figure(figsize=(5, 5))\n",
    "sns.heatmap(conf_matrix, annot=True, cmap=\"Blues\", fmt=\"d\", xticklabels=class_names, yticklabels=class_names)\n",
    "plt.xlabel('Predictions')\n",
    "plt.ylabel('Ground truth')\n",
    "plt.title('Confusion Matrix')\n",
    "plt.show()\n",
    "\n",
    "print(classification_report(y, y_hat, target_names=class_names))\n",
    "print(f\"TOTAL: {y.shape}\")\n",
    "# list(zip(conf_matrix.diagonal()/conf_matrix.sum(axis=1), class_names)), conf_matrix.sum(axis=0)\n",
    "# cm = conf_matrix.astype('float') / conf_matrix.sum(axis=1)[:, np.newaxis]\n",
    "# list(zip(cm.diagonal(), class_names))\n",
    "\n",
    "# accuracy  = (tp + tn) / (tp + tn + fp + fn)\n",
    "{name: accuracy_score(np.array(y) == i, np.array(y_hat) == i) * 100 for i, name in enumerate(class_names)}\n"
   ],
   "outputs": []
  }
 ],
 "metadata": {
  "colab": {
   "provenance": []
  },
  "kernelspec": {
   "display_name": "Python 3",
   "name": "python3"
  },
  "language_info": {
   "codemirror_mode": {
    "name": "ipython",
    "version": 3
   },
   "file_extension": ".py",
   "mimetype": "text/x-python",
   "name": "python",
   "nbconvert_exporter": "python",
   "pygments_lexer": "ipython3",
   "version": "3.12.3"
  }
 },
 "nbformat": 4,
 "nbformat_minor": 0
}
