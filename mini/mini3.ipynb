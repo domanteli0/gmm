{
 "nbformat": 4,
 "nbformat_minor": 0,
 "metadata": {
  "colab": {
   "provenance": [],
   "authorship_tag": "ABX9TyNK+LGFbx3BK43moHMJxAPU"
  },
  "kernelspec": {
   "name": "python3",
   "display_name": "Python 3 (ipykernel)",
   "language": "python"
  },
  "language_info": {
   "name": "python"
  }
 },
 "cells": [
  {
   "cell_type": "code",
   "metadata": {
    "id": "FZgYpvUa9Iya",
    "ExecuteTime": {
     "end_time": "2024-05-08T15:56:51.331033Z",
     "start_time": "2024-05-08T15:56:51.154596Z"
    }
   },
   "source": [
    "import numpy as np\n",
    "import cv2"
   ],
   "outputs": [],
   "execution_count": 1
  },
  {
   "cell_type": "markdown",
   "source": [
    "**Užduotis** - apskaičiuoti IoU stačiakampiams ir Mask IoU kaukėms"
   ],
   "metadata": {
    "id": "l3tZWAYiF04H"
   }
  },
  {
   "cell_type": "markdown",
   "source": [
    "Stačiakampiai formatu $(x_0, y_0, x_1, y_1)$"
   ],
   "metadata": {
    "id": "m1L6qVtz-JEU"
   }
  },
  {
   "cell_type": "code",
   "source": [
    "gt_bbox = (150, 200, 250, 300)\n",
    "pred_bbox = (136, 211, 242, 309)"
   ],
   "metadata": {
    "id": "ur18azhu9Ppa",
    "ExecuteTime": {
     "end_time": "2024-05-08T15:56:51.344099Z",
     "start_time": "2024-05-08T15:56:51.336654Z"
    }
   },
   "outputs": [],
   "execution_count": 2
  },
  {
   "cell_type": "markdown",
   "source": [
    "Kaukės numpy matricose (0 - kaukės nėra, 1 - kaukė yra)"
   ],
   "metadata": {
    "id": "XHq0cJarFVPT"
   }
  },
  {
   "cell_type": "code",
   "source": [
    "gt_mask = np.zeros((100, 100), dtype = np.uint8)\n",
    "_ = cv2.circle(gt_mask, (50, 50), 20, 1, -1)\n",
    "\n",
    "pred_mask = np.zeros((100, 100), dtype = np.uint8)\n",
    "_ = cv2.rectangle(pred_mask, (33, 33), (67, 67), 1, -1)"
   ],
   "metadata": {
    "id": "oeU4oJZ-DYKp",
    "ExecuteTime": {
     "end_time": "2024-05-08T15:56:51.384429Z",
     "start_time": "2024-05-08T15:56:51.350788Z"
    }
   },
   "outputs": [],
   "execution_count": 3
  },
  {
   "metadata": {},
   "cell_type": "markdown",
   "source": ""
  },
  {
   "metadata": {
    "ExecuteTime": {
     "end_time": "2024-05-08T15:56:51.398024Z",
     "start_time": "2024-05-08T15:56:51.393196Z"
    }
   },
   "cell_type": "code",
   "source": [
    "def resize_mask(mask, bbox, target_size=(128, 128)):\n",
    "  x_start = int(bbox[0] * target_size[1])\n",
    "  y_start = int(bbox[1] * target_size[0])\n",
    "  x_end = int((bbox[0] + bbox[2]) * target_size[1])\n",
    "  y_end = int((bbox[1] + bbox[3]) * target_size[0])\n",
    "\n",
    "  return cv2.resize(mask, (x_end - x_start, y_end - y_start), interpolation=cv2.INTER_LINEAR)"
   ],
   "outputs": [],
   "execution_count": 4
  },
  {
   "metadata": {
    "ExecuteTime": {
     "end_time": "2024-05-08T15:57:03.752431Z",
     "start_time": "2024-05-08T15:56:51.400201Z"
    }
   },
   "cell_type": "code",
   "source": [
    "gt_resized   = resize_mask(gt_mask,   gt_bbox,   (400,600))\n",
    "pred_resized = resize_mask(pred_mask, pred_bbox, (400,600))\n"
   ],
   "outputs": [],
   "execution_count": 5
  },
  {
   "metadata": {
    "ExecuteTime": {
     "end_time": "2024-05-08T16:05:27.645922Z",
     "start_time": "2024-05-08T16:05:27.635407Z"
    }
   },
   "cell_type": "code",
   "source": [
    "import torch\n",
    "\n",
    "ys = gt_mask\n",
    "y_hats = pred_mask\n",
    "\n",
    "intersection = np.bitwise_and(ys, y_hats)\n",
    "union = np.bitwise_or(ys, y_hats)\n",
    "\n",
    "intersection = np.sum(intersection)\n",
    "union = np.sum(union)\n",
    "\n",
    "# Jaccard = || A \\intersect B || / || A \\union B ||\n",
    "iou = intersection / union\n",
    "\n",
    "iou"
   ],
   "outputs": [
    {
     "data": {
      "text/plain": [
       "0.8398813936249073"
      ]
     },
     "execution_count": 11,
     "metadata": {},
     "output_type": "execute_result"
    }
   ],
   "execution_count": 11
  },
  {
   "metadata": {
    "ExecuteTime": {
     "end_time": "2024-05-08T16:02:22.009524Z",
     "start_time": "2024-05-08T16:02:21.995814Z"
    }
   },
   "cell_type": "code",
   "source": [
    "def calculate_iou(box1, box2):\n",
    "  x1, y1, x2, y2 = box1\n",
    "  x3, y3, x4, y4 = box2\n",
    "\n",
    "  inter_x1 = max(x1, x3)\n",
    "  inter_y1 = max(y1, y3)\n",
    "  inter_x2 = min(x2, x4)\n",
    "  inter_y2 = min(y2, y4)\n",
    "\n",
    "  if inter_x2 > inter_x1 and inter_y2 > inter_y1:\n",
    "    intersection = (inter_x2 - inter_x1) * (inter_y2 - inter_y1)\n",
    "  else:\n",
    "    intersection = 0\n",
    "\n",
    "  box1_area = (x2 - x1) * (y2 - y1)\n",
    "  box2_area = (x4 - x3) * (y4 - y3)\n",
    "\n",
    "  union = box1_area + box2_area - intersection\n",
    "\n",
    "  # Jaccard = || A \\intersect B || / || A \\union B ||\n",
    "  iou = intersection / union\n",
    "  return iou\n",
    "\n",
    "calculate_iou(gt_bbox, pred_bbox)"
   ],
   "outputs": [
    {
     "data": {
      "text/plain": [
       "0.6711475409836065"
      ]
     },
     "execution_count": 8,
     "metadata": {},
     "output_type": "execute_result"
    }
   ],
   "execution_count": 8
  }
 ]
}
