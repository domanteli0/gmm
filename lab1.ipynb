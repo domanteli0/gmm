{
 "cells": [
  {
   "cell_type": "markdown",
   "metadata": {},
   "source": [
    "### Užduotis\n",
    "\n",
    "Pirma užduotis reikalaus realizuoti:\n",
    "\n",
    "- [X] efektyvią duomenų nuskaitymo programą su pasirinku egzistuojančiu iš anksto apmokytu (angl. pre-trained) vaizdų klasifikavimo modeliu,\n",
    "- [X] paskaičiuoti tikslumo, precizijos, atkūrimo ir F1 statistikas pasirinktiems 1000 paveikslėlių iš OpenImages,\n",
    "- [X] realizuoti slenkstinės reikšmės (angl. threshold) keitimą, įgalinant klasifikuoti vaizdus kiekvienai užduotai klasei keičiant . Statistikos turi persiskaičiuoti po slenkstinės reikšmės pakeitimo."
   ]
  },
  {
   "cell_type": "code",
   "execution_count": 1,
   "metadata": {},
   "source": [
    "%pip install -r requirements.txt"
   ],
   "outputs": []
  },
  {
   "cell_type": "code",
   "execution_count": 2,
   "metadata": {},
   "source": [
    "from pathlib import Path\n",
    "from typing import Callable\n",
    "from torch import Tensor\n",
    "from torch.utils.data import Dataset\n",
    "from PIL import Image\n",
    "from importlib import reload\n",
    "from copy import deepcopy\n",
    "from lab1.mydataset import MyDataSet\n",
    "import lab1"
   ],
   "outputs": []
  },
  {
   "cell_type": "code",
   "execution_count": 3,
   "metadata": {},
   "source": [
    "from lab1.device import device\n",
    "reload(lab1.device)\n",
    "device"
   ],
   "outputs": []
  },
  {
   "cell_type": "code",
   "execution_count": 4,
   "metadata": {},
   "source": [
    "from lab1.download import download_if_not_found\n",
    "reload(lab1.download)\n",
    "download_if_not_found()"
   ],
   "outputs": []
  },
  {
   "cell_type": "code",
   "execution_count": 12,
   "metadata": {},
   "source": [
    "from torchvision.models import resnet101, ResNet101_Weights\n",
    "\n",
    "weights: ResNet101_Weights = ResNet101_Weights.DEFAULT\n",
    "\n",
    "model = resnet101(weights=weights).to(device).eval()\n",
    "\n",
    "dict([(i, c) for c, i in enumerate(weights.meta['categories'])])"
   ],
   "outputs": []
  },
  {
   "cell_type": "code",
   "execution_count": 6,
   "metadata": {},
   "source": [
    "from lab1.trans import img_trans_1\n",
    "\n",
    "img_trans_2 = weights.transforms()\n",
    "dataset = MyDataSet(\"data\", preprocess_fn = img_trans_1, label_map = catmap)"
   ],
   "outputs": []
  },
  {
   "cell_type": "code",
   "execution_count": 13,
   "metadata": {},
   "source": [
    "from torch.utils.data import DataLoader\n",
    "\n",
    "data_loader = DataLoader(dataset, batch_size = 2**4, num_workers=1)"
   ],
   "outputs": []
  },
  {
   "cell_type": "code",
   "execution_count": 14,
   "metadata": {},
   "source": [
    "from functools import reduce\n",
    "import numpy as np\n",
    "import torch\n",
    "from torch import cat\n",
    "from torch.utils.data import Dataset\n",
    "from torchvision.transforms import Compose, Resize, ToTensor, Normalize\n",
    "\n",
    "predictions = torch.empty((0, 1000))\n",
    "truths_ = torch.tensor([], dtype=int)\n",
    "\n",
    "for images, ts in data_loader:\n",
    "    truths_  = torch.cat((truths_, ts))\n",
    "    # Can be though as list of ŷ\n",
    "    #     ŷ_i - confidence that input image belongs to i-th class\n",
    "    #\n",
    "    #              \"squishes\" outputs to a range of [0, 1] 👇\n",
    "    from_model = model(images.to(device)).detach().cpu().sigmoid()\n",
    "    predictions = cat((predictions, from_model))\n",
    "\n",
    "# Initializes list of vectors:\n",
    "#   truths - \n",
    "#   y - ground truth vector, with only one (i-th element), representing a class set to true\n",
    "truths = torch.zeros_like(predictions, dtype=torch.bool)\n",
    "for index, label in enumerate(truths_):\n",
    "    truths[index,label.item()] = True\n",
    "\n",
    "truths, predictions"
   ],
   "outputs": []
  },
  {
   "cell_type": "code",
   "execution_count": 9,
   "metadata": {},
   "source": [
    "from lab1.stat import table, stats\n",
    "def test():\n",
    "    tp, tn, fp, fn = table(truths, predictions)\n",
    "    return tp + tn + fp + fn == truths_.numel()\n",
    "\n",
    "table(truths, predictions), test()\n"
   ],
   "outputs": []
  },
  {
   "cell_type": "code",
   "execution_count": 15,
   "metadata": {},
   "source": [
    "from lab1.download import classes\n",
    "\n",
    "thr = 0.7\n",
    "\n",
    "print(f\"Threshold: {thr}\")\n",
    "for label in classes:\n",
    "    print(f\"---------------------\")\n",
    "    print(f\"Class: {label}\")\n",
    "    acc, re, pre, f1 = stats(table(truths, predictions, labels=catmap[label.lower()], threshold = thr))\n",
    "    print(f\" . Accuracy:  {acc:.3}\\n . Recall:    {re:.3}\\n . Precision: {pre:.3}\\n . F1:        {f1:.3}\\n\")"
   ],
   "outputs": []
  },
  {
   "cell_type": "code",
   "execution_count": 11,
   "metadata": {},
   "source": [
    "# It works\n",
    "revcatmap = weights.meta['categories']\n",
    "pred = model(\n",
    "        img_trans_1(Image.open(\"misc/pizza.jpg\")).unsqueeze(0).to(device)\n",
    "    ).detach().cpu().sigmoid().squeeze().argmax()\n",
    "revcatmap[pred]\n"
   ],
   "outputs": []
  },
  {
   "cell_type": "markdown",
   "metadata": {},
   "source": []
  }
 ],
 "metadata": {
  "kernelspec": {
   "display_name": "Python 3",
   "language": "python",
   "name": "python3"
  },
  "language_info": {
   "codemirror_mode": {
    "name": "ipython",
    "version": 3
   },
   "file_extension": ".py",
   "mimetype": "text/x-python",
   "name": "python",
   "nbconvert_exporter": "python",
   "pygments_lexer": "ipython3",
   "version": "3.12.2"
  }
 },
 "nbformat": 4,
 "nbformat_minor": 2
}
