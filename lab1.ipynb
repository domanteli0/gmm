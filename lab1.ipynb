{
 "cells": [
  {
   "cell_type": "markdown",
   "metadata": {},
   "source": [
    "### Užduotis\n",
    "\n",
    "Pirma užduotis reikalaus realizuoti:\n",
    "\n",
    "- [X] efektyvią duomenų nuskaitymo programą su pasirinku egzistuojančiu iš anksto apmokytu (angl. pre-trained) vaizdų klasifikavimo modeliu,\n",
    "- [X] paskaičiuoti tikslumo, precizijos, atkūrimo ir F1 statistikas pasirinktiems 1000 paveikslėlių iš OpenImages,\n",
    "- [X] realizuoti slenkstinės reikšmės (angl. threshold) keitimą, įgalinant klasifikuoti vaizdus kiekvienai užduotai klasei keičiant . Statistikos turi persiskaičiuoti po slenkstinės reikšmės pakeitimo."
   ]
  },
  {
   "cell_type": "code",
   "execution_count": 1,
   "metadata": {},
   "outputs": [
    {
     "name": "stdout",
     "output_type": "stream",
     "text": [
      "Requirement already satisfied: openimages in ./.venv/lib/python3.12/site-packages (from -r requirements.txt (line 1)) (0.0.1)\n",
      "Requirement already satisfied: ipykernel in ./.venv/lib/python3.12/site-packages (from -r requirements.txt (line 2)) (6.29.3)\n",
      "Requirement already satisfied: ipython in ./.venv/lib/python3.12/site-packages (from -r requirements.txt (line 3)) (8.22.2)\n",
      "Requirement already satisfied: matplotlib in ./.venv/lib/python3.12/site-packages (from -r requirements.txt (line 4)) (3.8.3)\n",
      "Requirement already satisfied: pandas in ./.venv/lib/python3.12/site-packages (from -r requirements.txt (line 5)) (2.2.1)\n",
      "Requirement already satisfied: torch in ./.venv/lib/python3.12/site-packages (from -r requirements.txt (line 6)) (2.2.1)\n",
      "Requirement already satisfied: torchvision in ./.venv/lib/python3.12/site-packages (from -r requirements.txt (line 7)) (0.17.1)\n",
      "Requirement already satisfied: mypy in ./.venv/lib/python3.12/site-packages (from -r requirements.txt (line 8)) (1.8.0)\n",
      "Requirement already satisfied: pip in ./.venv/lib/python3.12/site-packages (from -r requirements.txt (line 9)) (24.0)\n",
      "Requirement already satisfied: types-Pillow in ./.venv/lib/python3.12/site-packages (from -r requirements.txt (line 10)) (10.2.0.20240213)\n",
      "Requirement already satisfied: scikit-image in ./.venv/lib/python3.12/site-packages (from -r requirements.txt (line 11)) (0.22.0)\n",
      "Requirement already satisfied: seaborn in ./.venv/lib/python3.12/site-packages (from -r requirements.txt (line 12)) (0.13.2)\n",
      "Requirement already satisfied: scikit-learn in ./.venv/lib/python3.12/site-packages (from -r requirements.txt (line 13)) (1.4.1.post1)\n",
      "Requirement already satisfied: boto3 in ./.venv/lib/python3.12/site-packages (from openimages->-r requirements.txt (line 1)) (1.34.56)\n",
      "Requirement already satisfied: cvdata in ./.venv/lib/python3.12/site-packages (from openimages->-r requirements.txt (line 1)) (0.0.3)\n",
      "Requirement already satisfied: lxml in ./.venv/lib/python3.12/site-packages (from openimages->-r requirements.txt (line 1)) (5.1.0)\n",
      "Requirement already satisfied: requests in ./.venv/lib/python3.12/site-packages (from openimages->-r requirements.txt (line 1)) (2.31.0)\n",
      "Requirement already satisfied: tqdm in ./.venv/lib/python3.12/site-packages (from openimages->-r requirements.txt (line 1)) (4.66.2)\n",
      "Requirement already satisfied: appnope in ./.venv/lib/python3.12/site-packages (from ipykernel->-r requirements.txt (line 2)) (0.1.4)\n",
      "Requirement already satisfied: comm>=0.1.1 in ./.venv/lib/python3.12/site-packages (from ipykernel->-r requirements.txt (line 2)) (0.2.1)\n",
      "Requirement already satisfied: debugpy>=1.6.5 in ./.venv/lib/python3.12/site-packages (from ipykernel->-r requirements.txt (line 2)) (1.8.1)\n",
      "Requirement already satisfied: jupyter-client>=6.1.12 in ./.venv/lib/python3.12/site-packages (from ipykernel->-r requirements.txt (line 2)) (8.6.0)\n",
      "Requirement already satisfied: jupyter-core!=5.0.*,>=4.12 in ./.venv/lib/python3.12/site-packages (from ipykernel->-r requirements.txt (line 2)) (5.7.1)\n",
      "Requirement already satisfied: matplotlib-inline>=0.1 in ./.venv/lib/python3.12/site-packages (from ipykernel->-r requirements.txt (line 2)) (0.1.6)\n",
      "Requirement already satisfied: nest-asyncio in ./.venv/lib/python3.12/site-packages (from ipykernel->-r requirements.txt (line 2)) (1.6.0)\n",
      "Requirement already satisfied: packaging in ./.venv/lib/python3.12/site-packages (from ipykernel->-r requirements.txt (line 2)) (23.2)\n",
      "Requirement already satisfied: psutil in ./.venv/lib/python3.12/site-packages (from ipykernel->-r requirements.txt (line 2)) (5.9.8)\n",
      "Requirement already satisfied: pyzmq>=24 in ./.venv/lib/python3.12/site-packages (from ipykernel->-r requirements.txt (line 2)) (25.1.2)\n",
      "Requirement already satisfied: tornado>=6.1 in ./.venv/lib/python3.12/site-packages (from ipykernel->-r requirements.txt (line 2)) (6.4)\n",
      "Requirement already satisfied: traitlets>=5.4.0 in ./.venv/lib/python3.12/site-packages (from ipykernel->-r requirements.txt (line 2)) (5.14.1)\n",
      "Requirement already satisfied: decorator in ./.venv/lib/python3.12/site-packages (from ipython->-r requirements.txt (line 3)) (5.1.1)\n",
      "Requirement already satisfied: jedi>=0.16 in ./.venv/lib/python3.12/site-packages (from ipython->-r requirements.txt (line 3)) (0.19.1)\n",
      "Requirement already satisfied: prompt-toolkit<3.1.0,>=3.0.41 in ./.venv/lib/python3.12/site-packages (from ipython->-r requirements.txt (line 3)) (3.0.43)\n",
      "Requirement already satisfied: pygments>=2.4.0 in ./.venv/lib/python3.12/site-packages (from ipython->-r requirements.txt (line 3)) (2.17.2)\n",
      "Requirement already satisfied: stack-data in ./.venv/lib/python3.12/site-packages (from ipython->-r requirements.txt (line 3)) (0.6.3)\n",
      "Requirement already satisfied: pexpect>4.3 in ./.venv/lib/python3.12/site-packages (from ipython->-r requirements.txt (line 3)) (4.9.0)\n",
      "Requirement already satisfied: contourpy>=1.0.1 in ./.venv/lib/python3.12/site-packages (from matplotlib->-r requirements.txt (line 4)) (1.2.0)\n",
      "Requirement already satisfied: cycler>=0.10 in ./.venv/lib/python3.12/site-packages (from matplotlib->-r requirements.txt (line 4)) (0.12.1)\n",
      "Requirement already satisfied: fonttools>=4.22.0 in ./.venv/lib/python3.12/site-packages (from matplotlib->-r requirements.txt (line 4)) (4.49.0)\n",
      "Requirement already satisfied: kiwisolver>=1.3.1 in ./.venv/lib/python3.12/site-packages (from matplotlib->-r requirements.txt (line 4)) (1.4.5)\n",
      "Requirement already satisfied: numpy<2,>=1.21 in ./.venv/lib/python3.12/site-packages (from matplotlib->-r requirements.txt (line 4)) (1.26.4)\n",
      "Requirement already satisfied: pillow>=8 in ./.venv/lib/python3.12/site-packages (from matplotlib->-r requirements.txt (line 4)) (10.2.0)\n",
      "Requirement already satisfied: pyparsing>=2.3.1 in ./.venv/lib/python3.12/site-packages (from matplotlib->-r requirements.txt (line 4)) (3.1.2)\n",
      "Requirement already satisfied: python-dateutil>=2.7 in ./.venv/lib/python3.12/site-packages (from matplotlib->-r requirements.txt (line 4)) (2.9.0.post0)\n",
      "Requirement already satisfied: pytz>=2020.1 in ./.venv/lib/python3.12/site-packages (from pandas->-r requirements.txt (line 5)) (2024.1)\n",
      "Requirement already satisfied: tzdata>=2022.7 in ./.venv/lib/python3.12/site-packages (from pandas->-r requirements.txt (line 5)) (2024.1)\n",
      "Requirement already satisfied: filelock in ./.venv/lib/python3.12/site-packages (from torch->-r requirements.txt (line 6)) (3.13.1)\n",
      "Requirement already satisfied: typing-extensions>=4.8.0 in ./.venv/lib/python3.12/site-packages (from torch->-r requirements.txt (line 6)) (4.10.0)\n",
      "Requirement already satisfied: sympy in ./.venv/lib/python3.12/site-packages (from torch->-r requirements.txt (line 6)) (1.12)\n",
      "Requirement already satisfied: networkx in ./.venv/lib/python3.12/site-packages (from torch->-r requirements.txt (line 6)) (3.2.1)\n",
      "Requirement already satisfied: jinja2 in ./.venv/lib/python3.12/site-packages (from torch->-r requirements.txt (line 6)) (3.1.3)\n",
      "Requirement already satisfied: fsspec in ./.venv/lib/python3.12/site-packages (from torch->-r requirements.txt (line 6)) (2024.2.0)\n",
      "Requirement already satisfied: mypy-extensions>=1.0.0 in ./.venv/lib/python3.12/site-packages (from mypy->-r requirements.txt (line 8)) (1.0.0)\n",
      "Requirement already satisfied: scipy>=1.8 in ./.venv/lib/python3.12/site-packages (from scikit-image->-r requirements.txt (line 11)) (1.12.0)\n",
      "Requirement already satisfied: imageio>=2.27 in ./.venv/lib/python3.12/site-packages (from scikit-image->-r requirements.txt (line 11)) (2.34.0)\n",
      "Requirement already satisfied: tifffile>=2022.8.12 in ./.venv/lib/python3.12/site-packages (from scikit-image->-r requirements.txt (line 11)) (2024.2.12)\n",
      "Requirement already satisfied: lazy_loader>=0.3 in ./.venv/lib/python3.12/site-packages (from scikit-image->-r requirements.txt (line 11)) (0.3)\n",
      "Requirement already satisfied: joblib>=1.2.0 in ./.venv/lib/python3.12/site-packages (from scikit-learn->-r requirements.txt (line 13)) (1.3.2)\n",
      "Requirement already satisfied: threadpoolctl>=2.0.0 in ./.venv/lib/python3.12/site-packages (from scikit-learn->-r requirements.txt (line 13)) (3.3.0)\n",
      "Requirement already satisfied: parso<0.9.0,>=0.8.3 in ./.venv/lib/python3.12/site-packages (from jedi>=0.16->ipython->-r requirements.txt (line 3)) (0.8.3)\n",
      "Requirement already satisfied: platformdirs>=2.5 in ./.venv/lib/python3.12/site-packages (from jupyter-core!=5.0.*,>=4.12->ipykernel->-r requirements.txt (line 2)) (4.2.0)\n",
      "Requirement already satisfied: ptyprocess>=0.5 in ./.venv/lib/python3.12/site-packages (from pexpect>4.3->ipython->-r requirements.txt (line 3)) (0.7.0)\n",
      "Requirement already satisfied: wcwidth in ./.venv/lib/python3.12/site-packages (from prompt-toolkit<3.1.0,>=3.0.41->ipython->-r requirements.txt (line 3)) (0.2.13)\n",
      "Requirement already satisfied: six>=1.5 in ./.venv/lib/python3.12/site-packages (from python-dateutil>=2.7->matplotlib->-r requirements.txt (line 4)) (1.16.0)\n",
      "Requirement already satisfied: botocore<1.35.0,>=1.34.56 in ./.venv/lib/python3.12/site-packages (from boto3->openimages->-r requirements.txt (line 1)) (1.34.56)\n",
      "Requirement already satisfied: jmespath<2.0.0,>=0.7.1 in ./.venv/lib/python3.12/site-packages (from boto3->openimages->-r requirements.txt (line 1)) (1.0.1)\n",
      "Requirement already satisfied: s3transfer<0.11.0,>=0.10.0 in ./.venv/lib/python3.12/site-packages (from boto3->openimages->-r requirements.txt (line 1)) (0.10.0)\n",
      "Requirement already satisfied: opencv-python in ./.venv/lib/python3.12/site-packages (from cvdata->openimages->-r requirements.txt (line 1)) (4.9.0.80)\n",
      "Requirement already satisfied: MarkupSafe>=2.0 in ./.venv/lib/python3.12/site-packages (from jinja2->torch->-r requirements.txt (line 6)) (2.1.5)\n",
      "Requirement already satisfied: charset-normalizer<4,>=2 in ./.venv/lib/python3.12/site-packages (from requests->openimages->-r requirements.txt (line 1)) (3.3.2)\n",
      "Requirement already satisfied: idna<4,>=2.5 in ./.venv/lib/python3.12/site-packages (from requests->openimages->-r requirements.txt (line 1)) (3.6)\n",
      "Requirement already satisfied: urllib3<3,>=1.21.1 in ./.venv/lib/python3.12/site-packages (from requests->openimages->-r requirements.txt (line 1)) (2.0.7)\n",
      "Requirement already satisfied: certifi>=2017.4.17 in ./.venv/lib/python3.12/site-packages (from requests->openimages->-r requirements.txt (line 1)) (2024.2.2)\n",
      "Requirement already satisfied: executing>=1.2.0 in ./.venv/lib/python3.12/site-packages (from stack-data->ipython->-r requirements.txt (line 3)) (2.0.1)\n",
      "Requirement already satisfied: asttokens>=2.1.0 in ./.venv/lib/python3.12/site-packages (from stack-data->ipython->-r requirements.txt (line 3)) (2.4.1)\n",
      "Requirement already satisfied: pure-eval in ./.venv/lib/python3.12/site-packages (from stack-data->ipython->-r requirements.txt (line 3)) (0.2.2)\n",
      "Requirement already satisfied: mpmath>=0.19 in ./.venv/lib/python3.12/site-packages (from sympy->torch->-r requirements.txt (line 6)) (1.3.0)\n",
      "Note: you may need to restart the kernel to use updated packages.\n"
     ]
    }
   ],
   "source": [
    "%pip install -r requirements.txt"
   ]
  },
  {
   "cell_type": "code",
   "execution_count": 2,
   "metadata": {},
   "outputs": [],
   "source": [
    "from pathlib import Path\n",
    "from typing import Callable\n",
    "from torch import Tensor\n",
    "from torch.utils.data import Dataset\n",
    "from PIL import Image\n",
    "from importlib import reload\n",
    "from copy import deepcopy\n",
    "from lab1.mydataset import MyDataSet\n",
    "import lab1"
   ]
  },
  {
   "cell_type": "code",
   "execution_count": 3,
   "metadata": {},
   "outputs": [
    {
     "data": {
      "text/plain": [
       "device(type='mps')"
      ]
     },
     "execution_count": 3,
     "metadata": {},
     "output_type": "execute_result"
    }
   ],
   "source": [
    "from lab1.device import device\n",
    "reload(lab1.device)\n",
    "device"
   ]
  },
  {
   "cell_type": "code",
   "execution_count": 4,
   "metadata": {},
   "outputs": [],
   "source": [
    "from lab1.download import download_if_not_found\n",
    "reload(lab1.download)\n",
    "download_if_not_found()"
   ]
  },
  {
   "cell_type": "code",
   "execution_count": 5,
   "metadata": {},
   "outputs": [],
   "source": [
    "from torchvision.models import resnet101, ResNet101_Weights\n",
    "\n",
    "weights: ResNet101_Weights = ResNet101_Weights.DEFAULT\n",
    "\n",
    "model = resnet101(weights=weights, progress=True).to(device).eval()\n",
    "\n",
    "catmap = dict([(i, c) for c, i in enumerate(weights.meta['categories'])])"
   ]
  },
  {
   "cell_type": "code",
   "execution_count": 6,
   "metadata": {},
   "outputs": [],
   "source": [
    "from lab1.trans import img_trans_1\n",
    "\n",
    "img_trans_2 = weights.transforms()\n",
    "dataset = MyDataSet(\"data\", preprocess_fn = img_trans_1, label_map = catmap)"
   ]
  },
  {
   "cell_type": "code",
   "execution_count": 7,
   "metadata": {},
   "outputs": [],
   "source": [
    "from torch.utils.data import DataLoader\n",
    "\n",
    "data_loader = DataLoader(dataset, batch_size = 2**4, num_workers=0)"
   ]
  },
  {
   "cell_type": "code",
   "execution_count": 8,
   "metadata": {},
   "outputs": [
    {
     "data": {
      "text/plain": [
       "(tensor([[False, False, False,  ..., False, False, False],\n",
       "         [False, False, False,  ..., False, False, False],\n",
       "         [False, False, False,  ..., False, False, False],\n",
       "         ...,\n",
       "         [False, False, False,  ..., False, False, False],\n",
       "         [False, False, False,  ..., False, False, False],\n",
       "         [False, False, False,  ..., False, False, False]]),\n",
       " tensor([[0.4655, 0.5691, 0.4720,  ..., 0.4166, 0.3569, 0.4560],\n",
       "         [0.4851, 0.5180, 0.5254,  ..., 0.4793, 0.5382, 0.5099],\n",
       "         [0.4731, 0.4663, 0.4910,  ..., 0.4731, 0.5712, 0.5123],\n",
       "         ...,\n",
       "         [0.4022, 0.6038, 0.3598,  ..., 0.4179, 0.5165, 0.6042],\n",
       "         [0.4610, 0.4933, 0.4728,  ..., 0.4774, 0.3940, 0.5322],\n",
       "         [0.4491, 0.4607, 0.5754,  ..., 0.5441, 0.3628, 0.4592]]))"
      ]
     },
     "execution_count": 8,
     "metadata": {},
     "output_type": "execute_result"
    }
   ],
   "source": [
    "from functools import reduce\n",
    "import numpy as np\n",
    "import torch\n",
    "from torch import cat\n",
    "from torch.utils.data import Dataset\n",
    "from torchvision.transforms import Compose, Resize, ToTensor, Normalize\n",
    "\n",
    "predictions = torch.empty((0, 1000))\n",
    "truths_ = torch.tensor([], dtype=int)\n",
    "\n",
    "for images, ts in data_loader:\n",
    "    truths_  = torch.cat((truths_, ts))\n",
    "    # Can be though as list of ŷ\n",
    "    #     ŷ_i - confidence that input image belongs to i-th class\n",
    "    #              \"squishes\" outputs to a range of [0, 1] 👇\n",
    "    from_model = model(images.to(device)).detach().cpu().sigmoid()\n",
    "    predictions = cat((predictions, from_model))\n",
    "\n",
    "# Initializes list of vectors:\n",
    "#   truths - \n",
    "#   y - ground truth vector, with only one (i-th element), representing a class set to true\n",
    "truths = torch.zeros_like(predictions, dtype=torch.bool)\n",
    "for index, label in enumerate(truths_):\n",
    "    truths[index,label.item()] = True\n",
    "\n",
    "truths, predictions"
   ]
  },
  {
   "cell_type": "code",
   "execution_count": 9,
   "metadata": {},
   "outputs": [
    {
     "data": {
      "text/plain": [
       "((tensor(0), tensor(539), tensor(477), tensor(0)), tensor(True))"
      ]
     },
     "execution_count": 9,
     "metadata": {},
     "output_type": "execute_result"
    }
   ],
   "source": [
    "from lab1.stat import table, stats\n",
    "def test():\n",
    "    tp, tn, fp, fn = table(truths, predictions)\n",
    "    return tp + tn + fp + fn == truths_.numel()\n",
    "\n",
    "table(truths, predictions), test()\n"
   ]
  },
  {
   "cell_type": "code",
   "execution_count": 10,
   "metadata": {},
   "outputs": [
    {
     "name": "stdout",
     "output_type": "stream",
     "text": [
      "---------------------\n",
      "Class: Pizza\n",
      " . Accuracy:  0.997\n",
      " . Recall:    0.997\n",
      " . Precision: 0.994\n",
      " . F1:        0.996\n",
      "\n",
      "---------------------\n",
      "Class: Television\n",
      " . Accuracy:  0.981\n",
      " . Recall:    0.968\n",
      " . Precision: 0.976\n",
      " . F1:        0.972\n",
      "\n",
      "---------------------\n",
      "Class: Tiger\n",
      " . Accuracy:  0.98\n",
      " . Recall:    0.922\n",
      " . Precision: 1.0\n",
      " . F1:        0.959\n",
      "\n",
      "---------------------\n",
      "Class: Snowplow\n",
      " . Accuracy:  0.997\n",
      " . Recall:    1.0\n",
      " . Precision: 0.964\n",
      " . F1:        0.982\n",
      "\n"
     ]
    }
   ],
   "source": [
    "from lab1.download import classes\n",
    "\n",
    "for label in classes:\n",
    "    print(f\"---------------------\")\n",
    "    print(f\"Class: {label}\")\n",
    "    acc, re, pre, f1 = stats(table(truths, predictions, labels=catmap[label.lower()], threshold = 0.8))\n",
    "    print(f\" . Accuracy:  {acc:.3}\\n . Recall:    {re:.3}\\n . Precision: {pre:.3}\\n . F1:        {f1:.3}\\n\")"
   ]
  },
  {
   "cell_type": "markdown",
   "metadata": {},
   "source": []
  }
 ],
 "metadata": {
  "kernelspec": {
   "display_name": "Python 3",
   "language": "python",
   "name": "python3"
  },
  "language_info": {
   "codemirror_mode": {
    "name": "ipython",
    "version": 3
   },
   "file_extension": ".py",
   "mimetype": "text/x-python",
   "name": "python",
   "nbconvert_exporter": "python",
   "pygments_lexer": "ipython3",
   "version": "3.12.2"
  }
 },
 "nbformat": 4,
 "nbformat_minor": 2
}
